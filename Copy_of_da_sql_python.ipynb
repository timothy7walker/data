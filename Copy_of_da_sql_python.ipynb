{
  "cells": [],
  "metadata": {
    "kernelspec": {
      "display_name": "Python 3.10.5 64-bit ('3.10.5')",
      "language": "python",
      "name": "python3"
    },
    "language_info": {
      "codemirror_mode": {
        "name": "ipython",
        "version": 3
      },
      "file_extension": ".py",
      "mimetype": "text/x-python",
      "name": "python",
      "nbconvert_exporter": "python",
      "pygments_lexer": "ipython3",
      "version": "3.10.5"
    },
    "orig_nbformat": 4,
    "vscode": {
      "interpreter": {
        "hash": "72eba8244c8569ac49d438732e93a8e908e06de84acfdd6772ccda19e3a34188"
      }
    },
    "colab": {
      "provenance": []
    }
  },
  "nbformat": 4,
  "nbformat_minor": 0
}